{
 "cells": [
  {
   "cell_type": "code",
   "execution_count": 2,
   "metadata": {},
   "outputs": [],
   "source": [
    "import pandas as pd \n",
    "import numpy as np \n",
    "import matplotlib.pyplot as plt\n",
    "import matplotlib.patches as mpatches"
   ]
  },
  {
   "cell_type": "code",
   "execution_count": 3,
   "metadata": {},
   "outputs": [],
   "source": [
    "def beta_irt(thetai, deltaj, aj):\n",
    "    p1 = ((deltaj)/(1 - deltaj))** aj\n",
    "    p2 = ((thetai)/(1 - thetai))** -aj\n",
    "    den = 1 + p1 * p2\n",
    "    return 1/den"
   ]
  },
  {
   "cell_type": "code",
   "execution_count": 4,
   "metadata": {},
   "outputs": [],
   "source": [
    "users = open(\"C:\\\\Users\\\\barre\\\\Documents\\\\UFPE 2015\\\\TCC\\\\MovieLens\\\\basic\\\\users_basic_sample.csv\").read().split('\\n')"
   ]
  },
  {
   "cell_type": "code",
   "execution_count": 10,
   "metadata": {},
   "outputs": [],
   "source": [
    "##### PARAMETERS #####\n",
    "params_file = \"../BIRT/beta_irt/results/recommendation/irt_parameters_vi_recommendation_s200_f20_sd1_am1@0_as1@0.csv\"\n",
    "params = pd.read_csv(params_file)\n",
    "params = params.values"
   ]
  },
  {
   "cell_type": "code",
   "execution_count": 11,
   "metadata": {},
   "outputs": [],
   "source": [
    "##### PARAMETERS #####\n",
    "responses_file = \"../BIRT/beta_irt/irt_data_recommendation_s200_f20_sd1.csv\"\n",
    "responses = pd.read_csv(responses_file)\n",
    "responses = responses.values"
   ]
  },
  {
   "cell_type": "code",
   "execution_count": 12,
   "metadata": {},
   "outputs": [],
   "source": [
    "##### ABILITIES #####\n",
    "abilities_file = \"../BIRT/beta_irt/results/recommendation/irt_ability_vi_recommendation_s200_f20_sd1_am1@0_as1@0.csv\"\n",
    "abilities = pd.read_csv(abilities_file)\n",
    "abilities = abilities.values[:-1] #stddev line\n",
    "abilities_v = [value for _, value in abilities]\n",
    "abilities_n = [name for name, _ in abilities]"
   ]
  },
  {
   "cell_type": "code",
   "execution_count": 14,
   "metadata": {},
   "outputs": [],
   "source": [
    "##### UNIFORMELY DISTRIBUTED ABILITIES (0,1) #####\n",
    "ab_lins = np.linspace(0.0001, 1, num = 300)\n",
    "colors = [\"#16a085\", \"#27ae60\", \"#2980b9\", \"#8e44ad\", \"#2c3e50\", \"#f1c40f\", \"#e67e22\", \"#e74c3c\", \"#ecf0f1\", \"#95a5a6\"]\n",
    "\n",
    "for i, param in enumerate(params):\n",
    "    fig, ax = plt.subplots()\n",
    "    \n",
    "    exp_responses = []\n",
    "    for ab in ab_lins:\n",
    "        exp_responses.append(beta_irt(thetai = ab,\\\n",
    "                                      deltaj = param[0],\\\n",
    "                                      aj = param[1]))\n",
    "\n",
    "    # Plot response curves\n",
    "    ax.plot(ab_lins, exp_responses)\n",
    "    ax.scatter(abilities_v, responses[i], c=colors)\n",
    "    \n",
    "    patches = []\n",
    "    for j, (name, _) in enumerate(abilities):\n",
    "        patches.append(mpatches.Patch(color=colors[j], label=name))\n",
    "    lgd = plt.legend(handles=patches, bbox_to_anchor=(1, 1))\n",
    "    \n",
    "    ax.set_xlabel('Ability')\n",
    "    ax.set_ylabel('Response')\n",
    "    ax.set_title('User {}'.format(users[i]))\n",
    "    fig.savefig('./charts/mae/chart_' + str(i) + '.png', bbox_extra_artists=(lgd,), bbox_inches='tight')"
   ]
  }
 ],
 "metadata": {
  "kernelspec": {
   "display_name": "Python 3",
   "language": "python",
   "name": "python3"
  },
  "language_info": {
   "codemirror_mode": {
    "name": "ipython",
    "version": 3
   },
   "file_extension": ".py",
   "mimetype": "text/x-python",
   "name": "python",
   "nbconvert_exporter": "python",
   "pygments_lexer": "ipython3",
   "version": "3.6.1"
  }
 },
 "nbformat": 4,
 "nbformat_minor": 2
}
