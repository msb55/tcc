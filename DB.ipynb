{
 "cells": [
  {
   "cell_type": "code",
   "execution_count": 1,
   "metadata": {},
   "outputs": [],
   "source": [
    "import pandas as pd\n",
    "import numpy as np\n",
    "import matplotlib.pyplot as plt"
   ]
  },
  {
   "cell_type": "code",
   "execution_count": 2,
   "metadata": {},
   "outputs": [],
   "source": [
    "# ratings_df = pd.read_csv(\"./../MovieLens/ratings.csv\") # large dataset\n",
    "# ratings_2_df = pd.read_csv(\"./../MovieLens/ratings_2.csv\") # basic dataset\n",
    "ratings_20m = pd.read_csv(\"./../MovieLens/20m/ratings.csv\") # 20M dataset\n",
    "# movies_df = pd.read_csv(\"./MovieLens/movies.csv\")\n",
    "# links_df = pd.read_csv(\"./MovieLens/links.csv\")\n",
    "# tags_df = pd.read_csv(\"./MovieLens/tags.csv\")"
   ]
  },
  {
   "cell_type": "markdown",
   "metadata": {},
   "source": [
    "## Large dataset"
   ]
  },
  {
   "cell_type": "code",
   "execution_count": 24,
   "metadata": {
    "scrolled": false
   },
   "outputs": [],
   "source": [
    "ratings_count = ratings_df.groupby('userId', as_index=False).count().sort_values('movieId', ascending=False)"
   ]
  },
  {
   "cell_type": "code",
   "execution_count": 111,
   "metadata": {},
   "outputs": [
    {
     "data": {
      "text/html": [
       "<div>\n",
       "<style scoped>\n",
       "    .dataframe tbody tr th:only-of-type {\n",
       "        vertical-align: middle;\n",
       "    }\n",
       "\n",
       "    .dataframe tbody tr th {\n",
       "        vertical-align: top;\n",
       "    }\n",
       "\n",
       "    .dataframe thead th {\n",
       "        text-align: right;\n",
       "    }\n",
       "</style>\n",
       "<table border=\"1\" class=\"dataframe\">\n",
       "  <thead>\n",
       "    <tr style=\"text-align: right;\">\n",
       "      <th></th>\n",
       "      <th>userId</th>\n",
       "      <th>movieId</th>\n",
       "      <th>rating</th>\n",
       "      <th>timestamp</th>\n",
       "    </tr>\n",
       "  </thead>\n",
       "  <tbody>\n",
       "    <tr>\n",
       "      <th>count</th>\n",
       "      <td>141188.000000</td>\n",
       "      <td>141188.000000</td>\n",
       "      <td>141188.000000</td>\n",
       "      <td>141188.000000</td>\n",
       "    </tr>\n",
       "    <tr>\n",
       "      <th>mean</th>\n",
       "      <td>141855.829886</td>\n",
       "      <td>182.083059</td>\n",
       "      <td>182.083059</td>\n",
       "      <td>182.083059</td>\n",
       "    </tr>\n",
       "    <tr>\n",
       "      <th>std</th>\n",
       "      <td>81683.157968</td>\n",
       "      <td>269.576139</td>\n",
       "      <td>269.576139</td>\n",
       "      <td>269.576139</td>\n",
       "    </tr>\n",
       "    <tr>\n",
       "      <th>min</th>\n",
       "      <td>4.000000</td>\n",
       "      <td>31.000000</td>\n",
       "      <td>31.000000</td>\n",
       "      <td>31.000000</td>\n",
       "    </tr>\n",
       "    <tr>\n",
       "      <th>25%</th>\n",
       "      <td>71028.750000</td>\n",
       "      <td>52.000000</td>\n",
       "      <td>52.000000</td>\n",
       "      <td>52.000000</td>\n",
       "    </tr>\n",
       "    <tr>\n",
       "      <th>50%</th>\n",
       "      <td>142145.500000</td>\n",
       "      <td>95.000000</td>\n",
       "      <td>95.000000</td>\n",
       "      <td>95.000000</td>\n",
       "    </tr>\n",
       "    <tr>\n",
       "      <th>75%</th>\n",
       "      <td>212478.250000</td>\n",
       "      <td>199.000000</td>\n",
       "      <td>199.000000</td>\n",
       "      <td>199.000000</td>\n",
       "    </tr>\n",
       "    <tr>\n",
       "      <th>max</th>\n",
       "      <td>283228.000000</td>\n",
       "      <td>9279.000000</td>\n",
       "      <td>9279.000000</td>\n",
       "      <td>9279.000000</td>\n",
       "    </tr>\n",
       "  </tbody>\n",
       "</table>\n",
       "</div>"
      ],
      "text/plain": [
       "              userId        movieId         rating      timestamp\n",
       "count  141188.000000  141188.000000  141188.000000  141188.000000\n",
       "mean   141855.829886     182.083059     182.083059     182.083059\n",
       "std     81683.157968     269.576139     269.576139     269.576139\n",
       "min         4.000000      31.000000      31.000000      31.000000\n",
       "25%     71028.750000      52.000000      52.000000      52.000000\n",
       "50%    142145.500000      95.000000      95.000000      95.000000\n",
       "75%    212478.250000     199.000000     199.000000     199.000000\n",
       "max    283228.000000    9279.000000    9279.000000    9279.000000"
      ]
     },
     "execution_count": 111,
     "metadata": {},
     "output_type": "execute_result"
    }
   ],
   "source": [
    "ratings_count[(ratings_count['movieId']>30) & (ratings_count['movieId']<10000)].describe()"
   ]
  },
  {
   "cell_type": "markdown",
   "metadata": {},
   "source": [
    "### Random sampling corresponding 5%"
   ]
  },
  {
   "cell_type": "code",
   "execution_count": 5,
   "metadata": {},
   "outputs": [],
   "source": [
    "sample_users_t = ratings_count.sample(frac=0.05)"
   ]
  },
  {
   "cell_type": "markdown",
   "metadata": {},
   "source": [
    "#### Sorting sample and getting first 200 users"
   ]
  },
  {
   "cell_type": "code",
   "execution_count": 6,
   "metadata": {},
   "outputs": [
    {
     "data": {
      "text/plain": [
       "(200, 4)"
      ]
     },
     "execution_count": 6,
     "metadata": {},
     "output_type": "execute_result"
    }
   ],
   "source": [
    "sample_users_t = sample_users_t.sort_values('movieId', ascending=False)\n",
    "sample_users_t = sample_users_t[:200]\n",
    "sample_users_t.shape"
   ]
  },
  {
   "cell_type": "markdown",
   "metadata": {},
   "source": [
    "#### Picking ratings only users sample"
   ]
  },
  {
   "cell_type": "code",
   "execution_count": 7,
   "metadata": {},
   "outputs": [],
   "source": [
    "sample_ratings_t = ratings_df.loc[ratings_df['userId'].isin(sample_users_t['userId'].values)]"
   ]
  },
  {
   "cell_type": "markdown",
   "metadata": {},
   "source": [
    "### First 200 users without randomization"
   ]
  },
  {
   "cell_type": "code",
   "execution_count": 8,
   "metadata": {},
   "outputs": [
    {
     "data": {
      "text/plain": [
       "(200, 4)"
      ]
     },
     "execution_count": 8,
     "metadata": {},
     "output_type": "execute_result"
    }
   ],
   "source": [
    "users_t = ratings_count[:200]\n",
    "users_t.shape"
   ]
  },
  {
   "cell_type": "markdown",
   "metadata": {},
   "source": [
    "#### Picking ratings only users sample"
   ]
  },
  {
   "cell_type": "code",
   "execution_count": 9,
   "metadata": {},
   "outputs": [],
   "source": [
    "ratings_t = ratings_df.loc[ratings_df['userId'].isin(users_t['userId'].values)]"
   ]
  },
  {
   "cell_type": "markdown",
   "metadata": {},
   "source": [
    "### Writing new datasets"
   ]
  },
  {
   "cell_type": "code",
   "execution_count": 10,
   "metadata": {},
   "outputs": [],
   "source": [
    "ratings_t.to_csv(path_or_buf='./MovieLens/ratings_large_sample.csv', index=False)\n",
    "users_t.to_csv(path_or_buf='./MovieLens/users_large_sample.csv', index=False, columns=['userId'])\n",
    "sample_ratings_t.to_csv(path_or_buf='./MovieLens/ratings_large_sample_05.csv', index=False)\n",
    "sample_users_t.to_csv(path_or_buf='./MovieLens/users_large_sample_05.csv', index=False, columns=['userId'])"
   ]
  },
  {
   "cell_type": "markdown",
   "metadata": {},
   "source": [
    "## Basic dataset"
   ]
  },
  {
   "cell_type": "code",
   "execution_count": 7,
   "metadata": {},
   "outputs": [],
   "source": [
    "ratings_2_count = ratings_20m.groupby('userId', as_index=False).count().sort_values('movieId', ascending=False)\n",
    "# ratings_2_count = ratings_2_df.groupby('userId', as_index=False).count()"
   ]
  },
  {
   "cell_type": "code",
   "execution_count": 49,
   "metadata": {},
   "outputs": [
    {
     "data": {
      "text/plain": [
       "movieId    173.839045\n",
       "dtype: float64"
      ]
     },
     "execution_count": 49,
     "metadata": {},
     "output_type": "execute_result"
    }
   ],
   "source": [
    "ratings_2_count[(ratings_2_count['movieId'] > 30) & (ratings_2_count['movieId'] < 4000)][['movieId']].mean()"
   ]
  },
  {
   "cell_type": "code",
   "execution_count": 94,
   "metadata": {},
   "outputs": [
    {
     "data": {
      "text/plain": [
       "(85897, 3)"
      ]
     },
     "execution_count": 94,
     "metadata": {},
     "output_type": "execute_result"
    }
   ],
   "source": [
    "ratings_2_count[(ratings_2_count['movieId'] < 100)].shape"
   ]
  },
  {
   "cell_type": "code",
   "execution_count": 48,
   "metadata": {},
   "outputs": [
    {
     "data": {
      "text/plain": [
       "array([<matplotlib.axes._subplots.AxesSubplot object at 0x0000021C0A736E80>],\n",
       "      dtype=object)"
      ]
     },
     "execution_count": 48,
     "metadata": {},
     "output_type": "execute_result"
    },
    {
     "data": {
      "image/png": "[encoded data removed]",
      "text/plain": [
       "<Figure size 1080x1080 with 1 Axes>"
      ]
     },
     "metadata": {
      "needs_background": "light"
     },
     "output_type": "display_data"
    }
   ],
   "source": [
    "fig = plt.figure(figsize = (15,15))\n",
    "ax = fig.gca()\n",
    "# axarr = ratings_2_count.hist(column='movieId', bins='auto', ax=ax)\n",
    "# ratings_2_count[['movieId']].describe()\n",
    "\n",
    "# axarr = ratings_2_count[(ratings_2_count['movieId']>30)].hist(bins='auto', column=['movieId'], ax=ax)\n",
    "# for ax in axarr.flatten():\n",
    "#     ax.set_xlabel(\"# Filmes\")\n",
    "#     ax.set_ylabel(\"# Usuários\")\n",
    "#     ax.set_title('Distribuição Usuários x Filmes')\n",
    "\n",
    "ratings_2_count[(ratings_2_count['movieId'] > 30) & (ratings_2_count['movieId'] < 4000)][['movieId']].hist(bins='auto', ax=ax)"
   ]
  },
  {
   "cell_type": "code",
   "execution_count": 50,
   "metadata": {},
   "outputs": [],
   "source": [
    "sectionA = ratings_2_count[(ratings_2_count['movieId']>30) & (ratings_2_count['movieId']<=87)]\n",
    "sectionB = ratings_2_count[(ratings_2_count['movieId']>174) & (ratings_2_count['movieId']<=261)]\n",
    "sectionC = ratings_2_count[ratings_2_count['movieId']>261]"
   ]
  },
  {
   "cell_type": "code",
   "execution_count": 54,
   "metadata": {},
   "outputs": [
    {
     "data": {
      "text/plain": [
       "(52901, 3)"
      ]
     },
     "execution_count": 54,
     "metadata": {},
     "output_type": "execute_result"
    }
   ],
   "source": []
  },
  {
   "cell_type": "code",
   "execution_count": 55,
   "metadata": {},
   "outputs": [],
   "source": [
    "n=100\n",
    "random_state=42\n",
    "sectionA_ = sectionA.sample(n=n, random_state=random_state)\n",
    "sectionB_ = sectionB.sample(n=n, random_state=random_state)\n",
    "sectionC_ = sectionC.sample(n=n, random_state=random_state)"
   ]
  },
  {
   "cell_type": "code",
   "execution_count": 56,
   "metadata": {},
   "outputs": [
    {
     "data": {
      "text/plain": [
       "array([ 15943,  87147, 122620,  36638,  37211,  53423,  51483,  86036,\n",
       "        28180,  98550, 108243, 104607,  75979,  54425,  75263,  95175,\n",
       "        71524,   6043,  45202, 125578,  15499,  82074,  69368, 116049,\n",
       "        70112,   1146,  97657,  22460, 112649, 112999,  38029,  63145,\n",
       "        55473,  76174, 138053,  23827,  72634,  70167,   5956,  67641,\n",
       "        78784,  32616,  98881,  83445,  57222,  85753,   6609, 131468,\n",
       "        65509, 132546,  80306, 117888,  84909,  99141, 106077, 131573,\n",
       "        97427, 118262,   4478,   1874,  11447, 132325,  26561,  25887,\n",
       "        82950,  75075,  26798,  38247,  65487,  18568,  93225,  29587,\n",
       "       120191,  96434,   8277,  10262, 134395, 130776,    122,  26426,\n",
       "       105233, 110678, 105080,  51167,    391,  30012, 136840,  46349,\n",
       "       107452, 135663,  81508, 116872,  43001, 130233,  55901, 135923,\n",
       "       138318,  61926,  86888,  53064], dtype=int64)"
      ]
     },
     "execution_count": 56,
     "metadata": {},
     "output_type": "execute_result"
    }
   ],
   "source": [
    "sectionA_['userId'].values"
   ]
  },
  {
   "cell_type": "code",
   "execution_count": 63,
   "metadata": {},
   "outputs": [
    {
     "data": {
      "text/plain": [
       "array([ 15943,  87147, 122620,  36638,  37211,  53423,  51483,  86036,\n",
       "        28180,  98550, 108243, 104607,  75979,  54425,  75263,  95175,\n",
       "        71524,   6043,  45202, 125578,  15499,  82074,  69368, 116049,\n",
       "        70112,   1146,  97657,  22460, 112649, 112999,  38029,  63145,\n",
       "        55473,  76174, 138053,  23827,  72634,  70167,   5956,  67641,\n",
       "        78784,  32616,  98881,  83445,  57222,  85753,   6609, 131468,\n",
       "        65509, 132546,  80306, 117888,  84909,  99141, 106077, 131573,\n",
       "        97427, 118262,   4478,   1874,  11447, 132325,  26561,  25887,\n",
       "        82950,  75075,  26798,  38247,  65487,  18568,  93225,  29587,\n",
       "       120191,  96434,   8277,  10262, 134395, 130776,    122,  26426,\n",
       "       105233, 110678, 105080,  51167,    391,  30012, 136840,  46349,\n",
       "       107452, 135663,  81508, 116872,  43001, 130233,  55901, 135923,\n",
       "       138318,  61926,  86888,  53064,  31902,   2248,  39666,  82204,\n",
       "        93708,  52063,  24156,   3497,  48118, 121882, 106718,  61977,\n",
       "        60160,  25241, 103036,  93298,  33919,  33296,  43413,  27680,\n",
       "        45146,   4941,  72165,  34113,  97892, 132873, 103566, 100391,\n",
       "        71871,  69912, 105307,  20715,  64710, 104785,  95036,  68050,\n",
       "         1280,  25983,  56481, 130528, 137517,  77398,  29829,  96008,\n",
       "        78188,  29785, 135160, 100270, 123223,  52470,   6068,  34686,\n",
       "       129874, 133059, 137530, 112498,  20340,    593,  71409, 121753,\n",
       "        94522, 129238,  71822,   4000,  11192, 136999,  65799,  50793,\n",
       "        90113, 116059,  52175, 100993,  90024,  35449, 130672,  64811,\n",
       "        60425,  66667, 133482,  46350,  63249,  47267,   5219, 109016,\n",
       "       106208,  41788,  89749,  56880,   7729,  71641,  56380,  30206,\n",
       "        64522,  71333,  13455,  21884, 126921,  70504,  32804,   7213,\n",
       "       136054,  97220,  50064, 119410,  56704,  67224, 130088,  34727,\n",
       "        84441,   9790,  28427,  47645, 130589,  31580,  28602, 134175,\n",
       "       110758,  24784,  93588, 134320, 113953,  42806, 126862, 116731,\n",
       "        63781,  50030,  92251,  52028,  50429,  26473,  94767,  56003,\n",
       "        76737,  87259,  39478,  64400, 137879,  16255,  42805, 120415,\n",
       "        90515,  29789,  52242, 102950,  40821,  14745,  13738,  75301,\n",
       "        21563,  40339,  38925,  76059,  47479,  69868,  93359,   2113,\n",
       "        36995,     24,  42640, 132410,   9512, 119757,  96244,  34518,\n",
       "        28802, 105313,  36310,  34544,  52165,  60655, 115474,  53203,\n",
       "         5036, 101315,  80778,  77563,  19067,  94379,  25098,  91798,\n",
       "        70021,  38647,   7590,  93054,  24903,  25962, 114512, 101344,\n",
       "        50700,  94980, 106922,  39102,  25477,  85792,  11574,  26849,\n",
       "        32056,  43294, 106520,   5076], dtype=int64)"
      ]
     },
     "execution_count": 63,
     "metadata": {},
     "output_type": "execute_result"
    }
   ],
   "source": [
    "users = np.concatenate((sectionA_['userId'].values, sectionB_['userId'].values, sectionC_['userId'].values))\n",
    "users"
   ]
  },
  {
   "cell_type": "code",
   "execution_count": 61,
   "metadata": {},
   "outputs": [
    {
     "data": {
      "text/plain": [
       "(83504, 3)"
      ]
     },
     "execution_count": 61,
     "metadata": {},
     "output_type": "execute_result"
    }
   ],
   "source": [
    "ratings = ratings_20m[ratings_20m['userId'].isin(users)]\n",
    "ratings.shape"
   ]
  },
  {
   "cell_type": "code",
   "execution_count": 62,
   "metadata": {},
   "outputs": [],
   "source": [
    "ratings.to_csv(path_or_buf='./../MovieLens/20m/ratings_20m_sample_section.csv', index=False, columns=['userId', 'movieId', 'rating'])"
   ]
  },
  {
   "cell_type": "code",
   "execution_count": 9,
   "metadata": {},
   "outputs": [
    {
     "data": {
      "text/html": [
       "<div>\n",
       "<style scoped>\n",
       "    .dataframe tbody tr th:only-of-type {\n",
       "        vertical-align: middle;\n",
       "    }\n",
       "\n",
       "    .dataframe tbody tr th {\n",
       "        vertical-align: top;\n",
       "    }\n",
       "\n",
       "    .dataframe thead th {\n",
       "        text-align: right;\n",
       "    }\n",
       "</style>\n",
       "<table border=\"1\" class=\"dataframe\">\n",
       "  <thead>\n",
       "    <tr style=\"text-align: right;\">\n",
       "      <th></th>\n",
       "      <th>userId</th>\n",
       "      <th>movieId</th>\n",
       "      <th>rating</th>\n",
       "      <th>timestamp</th>\n",
       "    </tr>\n",
       "  </thead>\n",
       "  <tbody>\n",
       "    <tr>\n",
       "      <th>413</th>\n",
       "      <td>414</td>\n",
       "      <td>2698</td>\n",
       "      <td>2698</td>\n",
       "      <td>2698</td>\n",
       "    </tr>\n",
       "    <tr>\n",
       "      <th>598</th>\n",
       "      <td>599</td>\n",
       "      <td>2478</td>\n",
       "      <td>2478</td>\n",
       "      <td>2478</td>\n",
       "    </tr>\n",
       "    <tr>\n",
       "      <th>473</th>\n",
       "      <td>474</td>\n",
       "      <td>2108</td>\n",
       "      <td>2108</td>\n",
       "      <td>2108</td>\n",
       "    </tr>\n",
       "    <tr>\n",
       "      <th>273</th>\n",
       "      <td>274</td>\n",
       "      <td>1346</td>\n",
       "      <td>1346</td>\n",
       "      <td>1346</td>\n",
       "    </tr>\n",
       "    <tr>\n",
       "      <th>386</th>\n",
       "      <td>387</td>\n",
       "      <td>1027</td>\n",
       "      <td>1027</td>\n",
       "      <td>1027</td>\n",
       "    </tr>\n",
       "  </tbody>\n",
       "</table>\n",
       "</div>"
      ],
      "text/plain": [
       "     userId  movieId  rating  timestamp\n",
       "413     414     2698    2698       2698\n",
       "598     599     2478    2478       2478\n",
       "473     474     2108    2108       2108\n",
       "273     274     1346    1346       1346\n",
       "386     387     1027    1027       1027"
      ]
     },
     "execution_count": 9,
     "metadata": {},
     "output_type": "execute_result"
    }
   ],
   "source": [
    "sample_users_u = ratings_2_count.sample(frac=0.5)\n",
    "sample_users_u = sample_users_u.sort_values('movieId', ascending=False)\n",
    "sample_users_u = sample_users_u[:200]\n",
    "sample_users_u.head()"
   ]
  },
  {
   "cell_type": "code",
   "execution_count": 11,
   "metadata": {},
   "outputs": [],
   "source": [
    "sample_ratings_u = ratings_2_df.loc[ratings_2_df['userId'].isin(sample_users_u['userId'].values)]"
   ]
  },
  {
   "cell_type": "code",
   "execution_count": 15,
   "metadata": {},
   "outputs": [
    {
     "data": {
      "text/plain": [
       "(200, 4)"
      ]
     },
     "execution_count": 15,
     "metadata": {},
     "output_type": "execute_result"
    }
   ],
   "source": [
    "users_u = ratings_2_count[:200]\n",
    "users_u.shape"
   ]
  },
  {
   "cell_type": "code",
   "execution_count": 16,
   "metadata": {},
   "outputs": [],
   "source": [
    "ratings_u = ratings_2_df.loc[ratings_2_df['userId'].isin(users_u['userId'].values)]"
   ]
  },
  {
   "cell_type": "code",
   "execution_count": 18,
   "metadata": {},
   "outputs": [],
   "source": [
    "# ratings_u.to_csv(path_or_buf='./MovieLens/ratings_basic_sample.csv', index=False)\n",
    "# users_u.to_csv(path_or_buf='./MovieLens/users_basic_sample.csv', index=False, columns=['userId'])\n",
    "sample_ratings_u.to_csv(path_or_buf='./MovieLens/ratings_basic_sample_05.csv', index=False)\n",
    "sample_users_u.to_csv(path_or_buf='./MovieLens/users_basic_sample_05.csv', index=False, columns=['userId'])"
   ]
  }
 ],
 "metadata": {
  "kernelspec": {
   "display_name": "Python 3",
   "language": "python",
   "name": "python3"
  },
  "language_info": {
   "codemirror_mode": {
    "name": "ipython",
    "version": 3
   },
   "file_extension": ".py",
   "mimetype": "text/x-python",
   "name": "python",
   "nbconvert_exporter": "python",
   "pygments_lexer": "ipython3",
   "version": "3.6.1"
  }
 },
 "nbformat": 4,
 "nbformat_minor": 2
}
