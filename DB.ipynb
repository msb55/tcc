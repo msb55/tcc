{
 "cells": [
  {
   "cell_type": "code",
   "execution_count": 2,
   "metadata": {},
   "outputs": [],
   "source": [
    "import pandas as pd\n",
    "import numpy as np"
   ]
  },
  {
   "cell_type": "code",
   "execution_count": 3,
   "metadata": {},
   "outputs": [],
   "source": [
    "# ratings_df = pd.read_csv(\"./../MovieLens/ratings.csv\") # large dataset\n",
    "ratings_2_df = pd.read_csv(\"./../MovieLens/ratings_2.csv\") # basic dataset\n",
    "# movies_df = pd.read_csv(\"./MovieLens/movies.csv\")\n",
    "# links_df = pd.read_csv(\"./MovieLens/links.csv\")\n",
    "# tags_df = pd.read_csv(\"./MovieLens/tags.csv\")"
   ]
  },
  {
   "cell_type": "markdown",
   "metadata": {},
   "source": [
    "## Large dataset"
   ]
  },
  {
   "cell_type": "code",
   "execution_count": 24,
   "metadata": {
    "scrolled": false
   },
   "outputs": [],
   "source": [
    "ratings_count = ratings_df.groupby('userId', as_index=False).count().sort_values('movieId', ascending=False)"
   ]
  },
  {
   "cell_type": "code",
   "execution_count": 111,
   "metadata": {},
   "outputs": [
    {
     "data": {
      "text/html": [
       "<div>\n",
       "<style scoped>\n",
       "    .dataframe tbody tr th:only-of-type {\n",
       "        vertical-align: middle;\n",
       "    }\n",
       "\n",
       "    .dataframe tbody tr th {\n",
       "        vertical-align: top;\n",
       "    }\n",
       "\n",
       "    .dataframe thead th {\n",
       "        text-align: right;\n",
       "    }\n",
       "</style>\n",
       "<table border=\"1\" class=\"dataframe\">\n",
       "  <thead>\n",
       "    <tr style=\"text-align: right;\">\n",
       "      <th></th>\n",
       "      <th>userId</th>\n",
       "      <th>movieId</th>\n",
       "      <th>rating</th>\n",
       "      <th>timestamp</th>\n",
       "    </tr>\n",
       "  </thead>\n",
       "  <tbody>\n",
       "    <tr>\n",
       "      <th>count</th>\n",
       "      <td>141188.000000</td>\n",
       "      <td>141188.000000</td>\n",
       "      <td>141188.000000</td>\n",
       "      <td>141188.000000</td>\n",
       "    </tr>\n",
       "    <tr>\n",
       "      <th>mean</th>\n",
       "      <td>141855.829886</td>\n",
       "      <td>182.083059</td>\n",
       "      <td>182.083059</td>\n",
       "      <td>182.083059</td>\n",
       "    </tr>\n",
       "    <tr>\n",
       "      <th>std</th>\n",
       "      <td>81683.157968</td>\n",
       "      <td>269.576139</td>\n",
       "      <td>269.576139</td>\n",
       "      <td>269.576139</td>\n",
       "    </tr>\n",
       "    <tr>\n",
       "      <th>min</th>\n",
       "      <td>4.000000</td>\n",
       "      <td>31.000000</td>\n",
       "      <td>31.000000</td>\n",
       "      <td>31.000000</td>\n",
       "    </tr>\n",
       "    <tr>\n",
       "      <th>25%</th>\n",
       "      <td>71028.750000</td>\n",
       "      <td>52.000000</td>\n",
       "      <td>52.000000</td>\n",
       "      <td>52.000000</td>\n",
       "    </tr>\n",
       "    <tr>\n",
       "      <th>50%</th>\n",
       "      <td>142145.500000</td>\n",
       "      <td>95.000000</td>\n",
       "      <td>95.000000</td>\n",
       "      <td>95.000000</td>\n",
       "    </tr>\n",
       "    <tr>\n",
       "      <th>75%</th>\n",
       "      <td>212478.250000</td>\n",
       "      <td>199.000000</td>\n",
       "      <td>199.000000</td>\n",
       "      <td>199.000000</td>\n",
       "    </tr>\n",
       "    <tr>\n",
       "      <th>max</th>\n",
       "      <td>283228.000000</td>\n",
       "      <td>9279.000000</td>\n",
       "      <td>9279.000000</td>\n",
       "      <td>9279.000000</td>\n",
       "    </tr>\n",
       "  </tbody>\n",
       "</table>\n",
       "</div>"
      ],
      "text/plain": [
       "              userId        movieId         rating      timestamp\n",
       "count  141188.000000  141188.000000  141188.000000  141188.000000\n",
       "mean   141855.829886     182.083059     182.083059     182.083059\n",
       "std     81683.157968     269.576139     269.576139     269.576139\n",
       "min         4.000000      31.000000      31.000000      31.000000\n",
       "25%     71028.750000      52.000000      52.000000      52.000000\n",
       "50%    142145.500000      95.000000      95.000000      95.000000\n",
       "75%    212478.250000     199.000000     199.000000     199.000000\n",
       "max    283228.000000    9279.000000    9279.000000    9279.000000"
      ]
     },
     "execution_count": 111,
     "metadata": {},
     "output_type": "execute_result"
    }
   ],
   "source": [
    "ratings_count[(ratings_count['movieId']>30) & (ratings_count['movieId']<10000)].describe()"
   ]
  },
  {
   "cell_type": "markdown",
   "metadata": {},
   "source": [
    "### Random sampling corresponding 5%"
   ]
  },
  {
   "cell_type": "code",
   "execution_count": 5,
   "metadata": {},
   "outputs": [],
   "source": [
    "sample_users_t = ratings_count.sample(frac=0.05)"
   ]
  },
  {
   "cell_type": "markdown",
   "metadata": {},
   "source": [
    "#### Sorting sample and getting first 200 users"
   ]
  },
  {
   "cell_type": "code",
   "execution_count": 6,
   "metadata": {},
   "outputs": [
    {
     "data": {
      "text/plain": [
       "(200, 4)"
      ]
     },
     "execution_count": 6,
     "metadata": {},
     "output_type": "execute_result"
    }
   ],
   "source": [
    "sample_users_t = sample_users_t.sort_values('movieId', ascending=False)\n",
    "sample_users_t = sample_users_t[:200]\n",
    "sample_users_t.shape"
   ]
  },
  {
   "cell_type": "markdown",
   "metadata": {},
   "source": [
    "#### Picking ratings only users sample"
   ]
  },
  {
   "cell_type": "code",
   "execution_count": 7,
   "metadata": {},
   "outputs": [],
   "source": [
    "sample_ratings_t = ratings_df.loc[ratings_df['userId'].isin(sample_users_t['userId'].values)]"
   ]
  },
  {
   "cell_type": "markdown",
   "metadata": {},
   "source": [
    "### First 200 users without randomization"
   ]
  },
  {
   "cell_type": "code",
   "execution_count": 8,
   "metadata": {},
   "outputs": [
    {
     "data": {
      "text/plain": [
       "(200, 4)"
      ]
     },
     "execution_count": 8,
     "metadata": {},
     "output_type": "execute_result"
    }
   ],
   "source": [
    "users_t = ratings_count[:200]\n",
    "users_t.shape"
   ]
  },
  {
   "cell_type": "markdown",
   "metadata": {},
   "source": [
    "#### Picking ratings only users sample"
   ]
  },
  {
   "cell_type": "code",
   "execution_count": 9,
   "metadata": {},
   "outputs": [],
   "source": [
    "ratings_t = ratings_df.loc[ratings_df['userId'].isin(users_t['userId'].values)]"
   ]
  },
  {
   "cell_type": "markdown",
   "metadata": {},
   "source": [
    "### Writing new datasets"
   ]
  },
  {
   "cell_type": "code",
   "execution_count": 10,
   "metadata": {},
   "outputs": [],
   "source": [
    "ratings_t.to_csv(path_or_buf='./MovieLens/ratings_large_sample.csv', index=False)\n",
    "users_t.to_csv(path_or_buf='./MovieLens/users_large_sample.csv', index=False, columns=['userId'])\n",
    "sample_ratings_t.to_csv(path_or_buf='./MovieLens/ratings_large_sample_05.csv', index=False)\n",
    "sample_users_t.to_csv(path_or_buf='./MovieLens/users_large_sample_05.csv', index=False, columns=['userId'])"
   ]
  },
  {
   "cell_type": "markdown",
   "metadata": {},
   "source": [
    "## Basic dataset"
   ]
  },
  {
   "cell_type": "code",
   "execution_count": 4,
   "metadata": {},
   "outputs": [],
   "source": [
    "ratings_2_count = ratings_2_df.groupby('userId', as_index=False).count()"
   ]
  },
  {
   "cell_type": "code",
   "execution_count": 5,
   "metadata": {},
   "outputs": [],
   "source": [
    "sectionA = ratings_2_count[(ratings_2_count['movieId']>30) & (ratings_2_count['movieId']<=60)]\n",
    "sectionB = ratings_2_count[(ratings_2_count['movieId']>60) & (ratings_2_count['movieId']<=154)]\n",
    "sectionC = ratings_2_count[ratings_2_count['movieId']>154]"
   ]
  },
  {
   "cell_type": "code",
   "execution_count": 6,
   "metadata": {},
   "outputs": [],
   "source": [
    "n=100\n",
    "random_state=42\n",
    "sectionA_ = sectionA.sample(n=n, random_state=random_state)\n",
    "sectionB_ = sectionB.sample(n=n, random_state=random_state)\n",
    "sectionC_ = sectionC.sample(n=n, random_state=random_state)"
   ]
  },
  {
   "cell_type": "code",
   "execution_count": 7,
   "metadata": {},
   "outputs": [
    {
     "data": {
      "text/plain": [
       "array([487, 429, 468, 196, 349, 107, 581, 183, 375, 521,  71, 316,  61,\n",
       "       253,  94, 110, 473, 389, 539,  65, 273,  69,  48,  36, 114, 558,\n",
       "       366, 197, 486, 588, 502, 285, 237, 315,   8, 348, 155, 149, 262,\n",
       "       540,  99, 506, 435, 347, 481, 128, 302,  88, 455, 255, 358,  46,\n",
       "       252, 319,  14, 102, 276, 511, 134, 148,  12, 501, 121, 513, 402,\n",
       "       261,  44, 350, 404,   3, 449, 450, 248, 154, 526, 106, 146, 421,\n",
       "        97,  90, 441, 300, 291, 142, 338, 400, 583, 498, 162, 451, 238,\n",
       "       271, 123, 413, 443, 457, 242, 591, 374, 383], dtype=int64)"
      ]
     },
     "execution_count": 7,
     "metadata": {},
     "output_type": "execute_result"
    }
   ],
   "source": [
    "sectionA_['userId'].values"
   ]
  },
  {
   "cell_type": "code",
   "execution_count": 30,
   "metadata": {},
   "outputs": [],
   "source": [
    "users = np.concatenate((sectionA_['userId'].values, sectionB_['userId'].values, sectionC_['userId'].values))\n",
    "# list(users)"
   ]
  },
  {
   "cell_type": "code",
   "execution_count": 20,
   "metadata": {},
   "outputs": [
    {
     "data": {
      "text/plain": [
       "(62001, 4)"
      ]
     },
     "execution_count": 20,
     "metadata": {},
     "output_type": "execute_result"
    }
   ],
   "source": [
    "ratings = ratings_2_df[ratings_2_df['userId'].isin(users)]\n",
    "ratings.shape"
   ]
  },
  {
   "cell_type": "code",
   "execution_count": 27,
   "metadata": {},
   "outputs": [],
   "source": [
    "ratings.to_csv(path_or_buf='./../MovieLens/basic/ratings_basic_sample_section.csv', index=False, columns=['userId', 'movieId', 'rating'])"
   ]
  },
  {
   "cell_type": "code",
   "execution_count": 9,
   "metadata": {},
   "outputs": [
    {
     "data": {
      "text/html": [
       "<div>\n",
       "<style scoped>\n",
       "    .dataframe tbody tr th:only-of-type {\n",
       "        vertical-align: middle;\n",
       "    }\n",
       "\n",
       "    .dataframe tbody tr th {\n",
       "        vertical-align: top;\n",
       "    }\n",
       "\n",
       "    .dataframe thead th {\n",
       "        text-align: right;\n",
       "    }\n",
       "</style>\n",
       "<table border=\"1\" class=\"dataframe\">\n",
       "  <thead>\n",
       "    <tr style=\"text-align: right;\">\n",
       "      <th></th>\n",
       "      <th>userId</th>\n",
       "      <th>movieId</th>\n",
       "      <th>rating</th>\n",
       "      <th>timestamp</th>\n",
       "    </tr>\n",
       "  </thead>\n",
       "  <tbody>\n",
       "    <tr>\n",
       "      <th>413</th>\n",
       "      <td>414</td>\n",
       "      <td>2698</td>\n",
       "      <td>2698</td>\n",
       "      <td>2698</td>\n",
       "    </tr>\n",
       "    <tr>\n",
       "      <th>598</th>\n",
       "      <td>599</td>\n",
       "      <td>2478</td>\n",
       "      <td>2478</td>\n",
       "      <td>2478</td>\n",
       "    </tr>\n",
       "    <tr>\n",
       "      <th>473</th>\n",
       "      <td>474</td>\n",
       "      <td>2108</td>\n",
       "      <td>2108</td>\n",
       "      <td>2108</td>\n",
       "    </tr>\n",
       "    <tr>\n",
       "      <th>273</th>\n",
       "      <td>274</td>\n",
       "      <td>1346</td>\n",
       "      <td>1346</td>\n",
       "      <td>1346</td>\n",
       "    </tr>\n",
       "    <tr>\n",
       "      <th>386</th>\n",
       "      <td>387</td>\n",
       "      <td>1027</td>\n",
       "      <td>1027</td>\n",
       "      <td>1027</td>\n",
       "    </tr>\n",
       "  </tbody>\n",
       "</table>\n",
       "</div>"
      ],
      "text/plain": [
       "     userId  movieId  rating  timestamp\n",
       "413     414     2698    2698       2698\n",
       "598     599     2478    2478       2478\n",
       "473     474     2108    2108       2108\n",
       "273     274     1346    1346       1346\n",
       "386     387     1027    1027       1027"
      ]
     },
     "execution_count": 9,
     "metadata": {},
     "output_type": "execute_result"
    }
   ],
   "source": [
    "sample_users_u = ratings_2_count.sample(frac=0.5)\n",
    "sample_users_u = sample_users_u.sort_values('movieId', ascending=False)\n",
    "sample_users_u = sample_users_u[:200]\n",
    "sample_users_u.head()"
   ]
  },
  {
   "cell_type": "code",
   "execution_count": 11,
   "metadata": {},
   "outputs": [],
   "source": [
    "sample_ratings_u = ratings_2_df.loc[ratings_2_df['userId'].isin(sample_users_u['userId'].values)]"
   ]
  },
  {
   "cell_type": "code",
   "execution_count": 15,
   "metadata": {},
   "outputs": [
    {
     "data": {
      "text/plain": [
       "(200, 4)"
      ]
     },
     "execution_count": 15,
     "metadata": {},
     "output_type": "execute_result"
    }
   ],
   "source": [
    "users_u = ratings_2_count[:200]\n",
    "users_u.shape"
   ]
  },
  {
   "cell_type": "code",
   "execution_count": 16,
   "metadata": {},
   "outputs": [],
   "source": [
    "ratings_u = ratings_2_df.loc[ratings_2_df['userId'].isin(users_u['userId'].values)]"
   ]
  },
  {
   "cell_type": "code",
   "execution_count": 18,
   "metadata": {},
   "outputs": [],
   "source": [
    "# ratings_u.to_csv(path_or_buf='./MovieLens/ratings_basic_sample.csv', index=False)\n",
    "# users_u.to_csv(path_or_buf='./MovieLens/users_basic_sample.csv', index=False, columns=['userId'])\n",
    "sample_ratings_u.to_csv(path_or_buf='./MovieLens/ratings_basic_sample_05.csv', index=False)\n",
    "sample_users_u.to_csv(path_or_buf='./MovieLens/users_basic_sample_05.csv', index=False, columns=['userId'])"
   ]
  }
 ],
 "metadata": {
  "kernelspec": {
   "display_name": "Python 3",
   "language": "python",
   "name": "python3"
  },
  "language_info": {
   "codemirror_mode": {
    "name": "ipython",
    "version": 3
   },
   "file_extension": ".py",
   "mimetype": "text/x-python",
   "name": "python",
   "nbconvert_exporter": "python",
   "pygments_lexer": "ipython3",
   "version": "3.6.1"
  }
 },
 "nbformat": 4,
 "nbformat_minor": 2
}
