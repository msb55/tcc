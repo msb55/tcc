{
 "cells": [
  {
   "cell_type": "code",
   "execution_count": 1,
   "metadata": {},
   "outputs": [],
   "source": [
    "import pandas as pd"
   ]
  },
  {
   "cell_type": "code",
   "execution_count": 3,
   "metadata": {},
   "outputs": [],
   "source": [
    "users = open('./../MovieLens/20m/users_20m_sample_section.csv').read().split('\\n')"
   ]
  },
  {
   "cell_type": "code",
   "execution_count": 4,
   "metadata": {},
   "outputs": [],
   "source": [
    "train = []\n",
    "test = []\n",
    "for user in users:\n",
    "    data = pd.read_csv(\"./../MovieLens/20m/ratings_20m_sample_section.csv\")\n",
    "    data_user = data.loc[data['userId'] == int(user)]\n",
    "    train_df = data_user.sample(frac=0.7)\n",
    "    test_df = data_user[~data_user.index.isin(train_df.index)]\n",
    "    train.append(train_df)\n",
    "    test.append(test_df)"
   ]
  },
  {
   "cell_type": "code",
   "execution_count": 5,
   "metadata": {},
   "outputs": [],
   "source": [
    "train_df = pd.concat(train)\n",
    "test_df = pd.concat(test)\n",
    "\n",
    "train_df.to_csv(\"./../MovieLens/20m/train_ratings_20m_sample_section.csv\", index=False, columns=['userId', 'movieId', 'rating'])\n",
    "test_df.to_csv(\"./../MovieLens/20m/test_ratings_20m_sample_section.csv\", index=False, columns=['userId', 'movieId', 'rating'])"
   ]
  }
 ],
 "metadata": {
  "kernelspec": {
   "display_name": "Python 3",
   "language": "python",
   "name": "python3"
  },
  "language_info": {
   "codemirror_mode": {
    "name": "ipython",
    "version": 3
   },
   "file_extension": ".py",
   "mimetype": "text/x-python",
   "name": "python",
   "nbconvert_exporter": "python",
   "pygments_lexer": "ipython3",
   "version": "3.6.1"
  }
 },
 "nbformat": 4,
 "nbformat_minor": 2
}
